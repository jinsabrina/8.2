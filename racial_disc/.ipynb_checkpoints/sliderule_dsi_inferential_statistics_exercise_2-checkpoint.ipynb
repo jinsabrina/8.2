{
 "cells": [
  {
   "cell_type": "markdown",
   "metadata": {},
   "source": [
    "# Examining Racial Discrimination in the US Job Market\n",
    "\n",
    "### Background\n",
    "Racial discrimination continues to be pervasive in cultures throughout the world. Researchers examined the level of racial discrimination in the United States labor market by randomly assigning identical résumés to black-sounding or white-sounding names and observing the impact on requests for interviews from employers.\n",
    "\n",
    "### Data\n",
    "In the dataset provided, each row represents a resume. The 'race' column has two values, 'b' and 'w', indicating black-sounding and white-sounding. The column 'call' has two values, 1 and 0, indicating whether the resume received a call from employers or not.\n",
    "\n",
    "Note that the 'b' and 'w' values in race are assigned randomly to the resumes when presented to the employer."
   ]
  },
  {
   "cell_type": "markdown",
   "metadata": {},
   "source": [
    "### Exercises\n",
    "You will perform a statistical analysis to establish whether race has a significant impact on the rate of callbacks for resumes.\n",
    "\n",
    "Answer the following questions **in this notebook below and submit to your Github account**. \n",
    "\n",
    "   1. What test is appropriate for this problem? Does CLT apply?\n",
    "   2. What are the null and alternate hypotheses?\n",
    "   3. Compute margin of error, confidence interval, and p-value.\n",
    "   4. Write a story describing the statistical significance in the context or the original problem.\n",
    "   5. Does your analysis mean that race/name is the most important factor in callback success? Why or why not? If not, how would you amend your analysis?\n",
    "\n",
    "You can include written notes in notebook cells using Markdown: \n",
    "   - In the control panel at the top, choose Cell > Cell Type > Markdown\n",
    "   - Markdown syntax: http://nestacms.com/docs/creating-content/markdown-cheat-sheet\n",
    "\n",
    "\n",
    "#### Resources\n",
    "+ Experiment information and data source: http://www.povertyactionlab.org/evaluation/discrimination-job-market-united-states\n",
    "+ Scipy statistical methods: http://docs.scipy.org/doc/scipy/reference/stats.html \n",
    "+ Markdown syntax: http://nestacms.com/docs/creating-content/markdown-cheat-sheet\n",
    "****"
   ]
  },
  {
   "cell_type": "code",
   "execution_count": 1,
   "metadata": {
    "collapsed": true
   },
   "outputs": [],
   "source": [
    "import pandas as pd\n",
    "import numpy as np\n",
    "from scipy import stats"
   ]
  },
  {
   "cell_type": "code",
   "execution_count": 2,
   "metadata": {
    "collapsed": true
   },
   "outputs": [],
   "source": [
    "data = pd.io.stata.read_stata('data/us_job_market_discrimination.dta')"
   ]
  },
  {
   "cell_type": "code",
   "execution_count": 12,
   "metadata": {
    "collapsed": true
   },
   "outputs": [],
   "source": [
    "# number of callbacks for black-sounding names\n",
    "b_count = sum(data[data.race=='b'].call)"
   ]
  },
  {
   "cell_type": "code",
   "execution_count": 13,
   "metadata": {
    "collapsed": true
   },
   "outputs": [],
   "source": [
    "#number of callbacks for white-sounding names\n",
    "w_count = sum(data[data.race=='w'].call)"
   ]
  },
  {
   "cell_type": "markdown",
   "metadata": {},
   "source": [
    "## Part 1\n",
    "We can generate bootstrapped data, and use it to test the null hypothesis. CLT applies."
   ]
  },
  {
   "cell_type": "markdown",
   "metadata": {},
   "source": [
    "## Part 2\n",
    "Null hypothesis is the difference in number between black and white callbacks should be 0. An alternate can be have 2 null hypothesis, one for number black callbacks and one for number white callbacks."
   ]
  },
  {
   "cell_type": "markdown",
   "metadata": {},
   "source": [
    "## Part 3"
   ]
  },
  {
   "cell_type": "code",
   "execution_count": 175,
   "metadata": {
    "collapsed": true
   },
   "outputs": [],
   "source": [
    "def draw_bs_replicate_2d(my_data, func):\n",
    "    index = np.arange(len(my_data))\n",
    "    index_sample = np.random.choice(index, len(index))\n",
    "    bs_sample = pd.DataFrame(my_data, index_sample)\n",
    "    return func(bs_sample)\n",
    "\n",
    "def draw_bs_rep(my_data, func, size=1):\n",
    "    bs_replicates = np.empty(size)\n",
    "    for i in range(size):\n",
    "        bs_replicates[i] = draw_bs_replicate_2d(my_data, func)\n",
    "    return bs_replicates"
   ]
  },
  {
   "cell_type": "code",
   "execution_count": 180,
   "metadata": {
    "collapsed": true
   },
   "outputs": [],
   "source": [
    "def diff_of_count_b_to_w(my_data):\n",
    "    b_count = sum(my_data[my_data.race=='b'].call)\n",
    "    w_count = sum(my_data[my_data.race=='w'].call)\n",
    "    diff =  b_count - w_count\n",
    "    return diff"
   ]
  },
  {
   "cell_type": "code",
   "execution_count": 182,
   "metadata": {},
   "outputs": [
    {
     "data": {
      "text/plain": [
       "array([ -65.,  -83.,  -78.,  -67.,  -75.,  -82.,  -70.,  -77.,  -88.,\n",
       "        -60.,  -86.,  -84., -140.,  -76.,  -78.,  -70.,  -83.,  -71.,\n",
       "        -65., -104.,  -49.,  -48.,  -92.,  -68.,  -84.,  -27.,  -67.,\n",
       "        -99.,  -74.,  -71.,  -92.,  -75.,  -65.,  -73.,  -88.,  -88.,\n",
       "        -83.,  -81., -115., -115.,  -57.,  -63.,  -60.,  -53.,  -75.,\n",
       "        -53.,  -60.,  -67., -100.,  -68.,  -47.,  -97.,  -78.,  -64.,\n",
       "        -80.,  -26.,  -82., -126.,  -52.,  -65.,  -47.,  -81., -112.,\n",
       "        -95.,  -89.,  -84.,  -51., -103.,  -79.,  -95.,  -85.,  -91.,\n",
       "        -55.,  -62.,  -53.,  -62.,  -73.,  -56., -100.,  -89.,  -55.,\n",
       "        -85.,  -56.,  -59.,  -99.,  -61.,  -96.,  -86.,  -58.,  -99.,\n",
       "        -81.,  -89.,  -55.,  -91.,  -70.,  -99., -106.,  -94.,  -86.,\n",
       "        -61.,  -84.,  -52.,  -92.,  -77.,  -41.,  -85.,  -84.,  -86.,\n",
       "        -45.,  -88.,  -79.,  -97.,  -66., -125.,  -91.,  -97.,  -62.,\n",
       "        -58.,  -89.,  -68.,  -66.,  -57., -116.,  -68.,  -93.,  -75.,\n",
       "        -76.,  -80.,  -22., -109.,  -65.,  -71.,  -75.,  -44.,  -69.,\n",
       "        -62., -109.,  -97.,  -63.,  -71.,  -85.,  -83.,  -71.,  -60.,\n",
       "        -59.,  -57.,  -98., -117.,  -84.,  -64., -119.,  -87.,  -71.,\n",
       "        -93.,  -34.,  -62.,  -88.,  -56.,  -88.,  -82.,  -33.,  -68.,\n",
       "       -103.,  -87.,  -98., -100.,  -61.,  -57., -103.,  -94.,  -83.,\n",
       "        -88.,  -58.,  -43.,  -62.,  -81., -107.,  -74.,  -89.,  -67.,\n",
       "        -65.,  -42.,  -99.,  -40.,  -80.,  -56.,  -87.,  -57.,  -72.,\n",
       "        -70.,  -94.,  -44.,  -80.,  -95.,  -82.,  -62.,  -89.,  -61.,\n",
       "        -82., -100., -151.,  -73.,  -50.,  -95., -110.,  -83.,  -53.,\n",
       "        -80.,  -83., -108.,  -75.,  -84., -117.,  -65.,  -51.,  -83.,\n",
       "       -103.,  -97.,  -93.,  -85.,  -50.,  -81.,  -54.,  -80.,  -63.,\n",
       "       -111.,  -95.,  -72., -102.,  -90.,  -74., -101.,  -87.,  -91.,\n",
       "        -72.,  -53.,  -74., -103., -100., -103.,  -57.,  -54.,  -59.,\n",
       "        -62.,  -83.,  -81.,  -70., -104.,  -75.,  -90.,  -73., -101.,\n",
       "        -69.,  -78.,  -76.,  -99., -109.,  -52.,  -96.,  -36.,  -37.,\n",
       "        -42., -103.,  -68.,  -59.,  -76.,  -80.,  -73.,  -87., -107.,\n",
       "        -72.,  -68.,  -85.,  -29.,  -68., -115.,  -49.,  -88.,  -95.,\n",
       "        -43., -111.,  -64.,  -65., -111.,  -65.,  -94., -111.,  -91.,\n",
       "        -61.,  -82.,  -45.,  -68.,  -84.,  -38.,  -71.,  -82.,  -73.,\n",
       "        -98.,  -94.,  -75.,  -77.,  -95.,  -54.,  -52.,  -69.,  -32.,\n",
       "        -73.,  -76.,  -43.,  -75.,  -92., -106.,  -72.,  -70.,  -59.,\n",
       "        -78.,  -66.,  -61.,  -78.,  -56.,  -54., -102.,  -79., -114.,\n",
       "        -92.,  -98.,  -63., -116.,  -53.,  -89.,  -77., -112.,  -69.,\n",
       "        -91.,  -78.,  -68.,  -66.,  -43.,  -57.,  -45.,  -34.,  -93.,\n",
       "        -79.,  -89.,  -97.,  -31.,  -90.,  -56.,  -73.,  -72.,  -79.,\n",
       "        -71.,  -54.,  -77., -107.,  -99.,  -61.,  -60.,  -68.,  -57.,\n",
       "       -100., -113.,  -96.,  -76.,  -98.,  -58.,  -84.,  -78.,  -63.,\n",
       "        -83.,  -47.,  -93., -109.,  -96.,  -88.,  -78.,  -78.,  -84.,\n",
       "        -81.,  -69.,  -82.,  -66.,  -57., -101., -130.,  -80.,  -79.,\n",
       "        -89.,  -98.,  -58.,  -73.,  -73.,  -84.,  -51.,  -47.,  -79.,\n",
       "        -76.,  -73.,  -85.,  -94.,  -64.,  -73., -111., -107.,  -59.,\n",
       "        -35.,  -68.,  -83.,  -92.,  -61.,  -89.,  -72., -107.,  -95.,\n",
       "        -65.,  -59.,  -76.,  -82.,  -89.,  -88.,  -94.,  -62.,  -82.,\n",
       "        -86.,  -76.,  -89., -112., -100.,  -80., -114.,  -76.,  -68.,\n",
       "        -63., -113.,  -75.,  -39., -107.,  -94.,  -96.,  -86.,  -95.,\n",
       "        -86.,  -77.,  -93., -106., -111.,  -68.,  -81.,  -69.,  -88.,\n",
       "        -96.,  -43.,  -82., -109.,  -66.,  -64.,  -89.,  -97.,  -85.,\n",
       "        -92.,  -81.,  -55., -141.,  -48.,  -93.,  -89.,  -79.,  -64.,\n",
       "       -100.,  -78.,  -88.,  -76.,  -88.,  -68.,  -57., -102.,  -84.,\n",
       "        -48.,  -54.,  -86.,  -73.,  -64.,  -65.,  -41.,  -96., -104.,\n",
       "        -83.,  -63.,  -81.,  -71.,  -86.,  -78.,  -62.,  -80.,  -99.,\n",
       "        -84., -101.,  -79.,  -63.,  -93., -121.,  -49.,  -40.,  -65.,\n",
       "        -36.,  -66.,  -98.,  -94.,  -69., -117.,  -83., -107.,  -66.,\n",
       "        -79.,  -99.,  -67., -117.,  -95.,  -71.,  -95.,  -83.,  -77.,\n",
       "       -111.,  -98.,  -72.,  -41.,  -70.,  -93.,  -82.,  -99.,  -52.,\n",
       "        -51.,  -48.,  -65., -109.,  -78., -109.,  -88.,  -66., -112.,\n",
       "        -95.,  -68.,  -54.,  -59.,  -76.,  -98.,  -84.,  -92.,  -91.,\n",
       "        -84.,  -84.,  -77.,  -75.,  -84.,  -55., -104.,  -58., -117.,\n",
       "        -60.,  -47., -102., -111., -106.,  -51.,  -86.,  -76.,  -45.,\n",
       "        -62.,  -48.,  -72.,  -50.,  -70.,  -78.,  -90.,  -69., -114.,\n",
       "        -83.,  -90.,  -54.,  -97.,  -63.,  -68.,  -92.,  -90., -120.,\n",
       "        -66., -104.,  -49., -135.,  -81.,  -75.,  -93.,  -89.,  -81.,\n",
       "        -84.,  -75.,  -92.,  -50.,  -55., -108.,  -97.,  -81.,  -82.,\n",
       "        -90.,  -66.,  -74.,  -46.,  -96.,  -74., -129.,  -57.,  -88.,\n",
       "        -54.,  -78., -106.,  -78.,  -95.,  -99., -109.,  -48.,  -88.,\n",
       "       -105.,  -94., -135.,  -67.,  -51., -104., -109.,  -86.,  -96.,\n",
       "        -55.,  -85., -136.,  -57., -104.,  -69.,  -72.,  -99.,  -79.,\n",
       "       -101.,  -56., -103.,  -95.,  -90.,  -44.,  -84., -101.,  -74.,\n",
       "        -64.,  -75., -102.,  -58., -109.,  -86.,  -81.,  -91.,  -76.,\n",
       "        -76., -102.,  -92.,  -68., -117.,  -91.,  -98.,  -78.,  -54.,\n",
       "        -34.,  -44., -102., -107.,  -98., -108.,  -68.,  -90.,  -85.,\n",
       "        -88.,  -45., -114.,  -68.,  -70.,  -50.,  -63.,  -54.,  -72.,\n",
       "        -90.,  -65.,  -71.,  -64.,  -86.,  -74.,  -93.,  -74.,  -92.,\n",
       "        -51., -112.,  -98.,  -63.,  -80.,  -71.,  -71.,  -99.,  -49.,\n",
       "        -77.,  -77.,  -88.,  -55.,  -62.,  -81.,  -42.,  -98.,  -69.,\n",
       "        -20.,  -79.,  -74., -118.,  -85.,  -59.,  -38.,  -81.,  -90.,\n",
       "        -67., -120.,  -71.,  -62.,  -81.,  -46.,  -64.,  -99.,  -89.,\n",
       "        -93.,  -83.,  -71.,  -85.,  -63., -115.,  -47., -112.,  -97.,\n",
       "        -86.,  -87.,  -96.,  -61.,  -76.,  -77.,  -69.,  -81.,  -91.,\n",
       "        -63.,  -67., -108.,  -76.,  -62.,  -64.,  -54.,  -83.,  -82.,\n",
       "        -95.,  -88., -111.,  -45.,  -89.,  -81.,  -64.,  -96.,  -41.,\n",
       "        -55.,  -67.,  -82.,  -64.,  -88.,  -84., -101.,  -73.,  -65.,\n",
       "        -55.,  -94.,  -66.,  -63.,  -88.,  -61.,  -79.,  -90.,  -62.,\n",
       "        -48., -100.,  -78., -105.,  -65.,  -83.,  -96.,  -53.,  -60.,\n",
       "        -72.,  -71.,  -67., -115.,  -63.,  -96.,  -94.,  -86.,  -49.,\n",
       "        -94.,  -89.,  -87.,  -59., -110.,  -59.,  -75.,  -69.,  -83.,\n",
       "       -107.,  -98.,  -81.,  -57.,  -77.,  -63., -113.,  -23.,  -99.,\n",
       "        -79.,  -91.,  -55., -104.,  -33.,  -85.,  -93.,  -50.,  -55.,\n",
       "        -68.,  -83., -106.,  -70.,  -33.,  -74.,  -68.,  -64., -109.,\n",
       "        -97.,  -73.,  -86.,  -51.,  -56., -142.,  -55.,  -99.,  -87.,\n",
       "        -76.,  -59.,  -68.,  -85.,  -33.,  -55.,  -81.,  -52.,  -79.,\n",
       "        -43.,  -95.,  -49.,  -84.,  -57.,  -42.,  -56.,  -74.,  -67.,\n",
       "        -80.,  -61., -108.,  -50.,  -69.,  -58.,  -70., -104.,  -49.,\n",
       "        -44.,  -71.,  -52., -104.,  -82., -103.,  -81.,  -82.,  -61.,\n",
       "        -87., -113.,  -84., -102.,  -73.,  -94.,  -59.,  -94.,  -69.,\n",
       "        -66., -106.,  -86.,  -76., -115.,  -68.,  -78.,  -99.,  -89.,\n",
       "        -94.,  -53.,  -74.,  -96.,  -47., -120.,  -66.,  -84.,  -85.,\n",
       "        -81.,  -55., -103.,  -77.,  -86.,  -82.,  -64.,  -85.,  -96.,\n",
       "        -65.,  -84.,  -92.,  -72.,  -70.,  -81., -108.,  -87., -100.,\n",
       "       -108.,  -86.,  -74.,  -85.,  -52.,  -67.,  -75.,  -86.,  -51.,\n",
       "        -82.,  -83., -102.,  -57.,  -95.,  -71.,  -76.,  -60.,  -69.,\n",
       "        -71., -121., -102.,  -51.,  -72.,  -76., -107.,  -89.,  -76.,\n",
       "        -77.,  -40.,  -94.,  -92.,  -37.,  -58.,  -69.,  -60.,  -80.,\n",
       "        -68.,  -93.,  -72.,  -92.,  -79.,  -50.,  -80.,  -96.,  -95.,\n",
       "        -96.,  -49.,  -72.,  -97.,  -52.,  -64.,  -82.,  -83.,  -75.,\n",
       "        -75.,  -77.,  -91.,  -41.,  -85.,  -66., -112.,  -70.,  -91.,\n",
       "        -43.,  -61.,  -83.,  -60., -102.,  -88.,  -85.,  -95.,  -65.,  -90.])"
      ]
     },
     "execution_count": 182,
     "metadata": {},
     "output_type": "execute_result"
    }
   ],
   "source": [
    "samples = draw_bs_rep(data, diff_of_count_b_to_w, size=1000)"
   ]
  },
  {
   "cell_type": "code",
   "execution_count": 187,
   "metadata": {},
   "outputs": [
    {
     "name": "stdout",
     "output_type": "stream",
     "text": [
      "mean:  -78.385\n",
      "std:  20.2697502451\n",
      "confidence interval:  [-116.  -40.]\n",
      "margin of error:  0.56929843284\n"
     ]
    }
   ],
   "source": [
    "mean = np.mean(samples)\n",
    "std = np.std(samples)\n",
    "interval = np.percentile(samples, [2.5, 97.5])\n",
    "error = 1.96 * std / np.sqrt(len(data))\n",
    "print('mean: ', mean)\n",
    "print('std: ', std)\n",
    "print('confidence interval: ', interval)\n",
    "print('margin of error: ', error)"
   ]
  },
  {
   "cell_type": "code",
   "execution_count": 190,
   "metadata": {},
   "outputs": [
    {
     "name": "stdout",
     "output_type": "stream",
     "text": [
      "p value:  0.0\n"
     ]
    }
   ],
   "source": [
    "shifted_samples = samples + mean\n",
    "p_value = np.sum(shifted_samples >= 0) / len(shifted_samples)\n",
    "print('p value: ', p_value)"
   ]
  },
  {
   "cell_type": "markdown",
   "metadata": {},
   "source": [
    "## Part 4\n",
    "First we form the hypothesis that black and white names does not affect outcome of getting a callback. To test the null hypothesis, firstly, generate bootstrap data by repetetively randomly choosing indices from dataset, then use the bootstrapped data to draw the mean, standard deviation, margin of error, confidence interval and p value for the null hypothesis. We got 0 for p value, this means that it is very unlikely that the null hypothesis holds, and also the mean drawn from the sample lines up with that of the dataset, there is strong evidence that white name does produce more callback than black names."
   ]
  },
  {
   "cell_type": "markdown",
   "metadata": {},
   "source": [
    "## Part 5\n",
    "Race does appear to be a strong factor for deciding whether a callback would occur, white names consistently produces more callbacks than black names, and it is almost impossible for black names to have more callbacks. But there can be other confounding factors, so race might not be the only cause."
   ]
  },
  {
   "cell_type": "code",
   "execution_count": null,
   "metadata": {
    "collapsed": true
   },
   "outputs": [],
   "source": []
  }
 ],
 "metadata": {
  "kernelspec": {
   "display_name": "Python 3",
   "language": "python",
   "name": "python3"
  },
  "language_info": {
   "codemirror_mode": {
    "name": "ipython",
    "version": 3
   },
   "file_extension": ".py",
   "mimetype": "text/x-python",
   "name": "python",
   "nbconvert_exporter": "python",
   "pygments_lexer": "ipython3",
   "version": "3.6.3"
  }
 },
 "nbformat": 4,
 "nbformat_minor": 1
}
